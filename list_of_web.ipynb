{
 "cells": [
  {
   "cell_type": "code",
   "execution_count": 1,
   "metadata": {},
   "outputs": [],
   "source": [
    "import requests\n",
    "import pandas as pd\n",
    "import numpy as np\n",
    "from bs4 import BeautifulSoup\n",
    "import re"
   ]
  },
  {
   "cell_type": "code",
   "execution_count": 2,
   "metadata": {},
   "outputs": [],
   "source": [
    "url = 'https://blog.feedspot.com/business_news_websites'\n",
    "respones = requests.get(url)"
   ]
  },
  {
   "cell_type": "code",
   "execution_count": 3,
   "metadata": {
    "scrolled": true
   },
   "outputs": [
    {
     "name": "stderr",
     "output_type": "stream",
     "text": [
      "/anaconda3/lib/python3.6/site-packages/bs4/__init__.py:181: UserWarning: No parser was explicitly specified, so I'm using the best available HTML parser for this system (\"lxml\"). This usually isn't a problem, but if you run this code on another system, or in a different virtual environment, it may use a different parser and behave differently.\n",
      "\n",
      "The code that caused this warning is on line 193 of the file /anaconda3/lib/python3.6/runpy.py. To get rid of this warning, change code that looks like this:\n",
      "\n",
      " BeautifulSoup(YOUR_MARKUP})\n",
      "\n",
      "to this:\n",
      "\n",
      " BeautifulSoup(YOUR_MARKUP, \"lxml\")\n",
      "\n",
      "  markup_type=markup_type))\n"
     ]
    }
   ],
   "source": [
    "Soup = BeautifulSoup(respones.content.decode('utf-8'))\n",
    "names_tags = Soup.findAll('a',attrs={'class':'tlink'})\n",
    "links_tags = Soup.findAll('a',attrs={'class':\"ext\"})\n",
    "Alice = []\n",
    "Duan =[]\n",
    "Yang = []\n",
    "Sun = []\n",
    "for i,name in enumerate(names_tags): \n",
    "    if i%4 == 3:\n",
    "        name = re.findall(r'[a-zA-Z0-9 ]+|',name.get_text())[0]\n",
    "        Alice.append((i, name, links_tags[i].get('href')))\n",
    "        pass\n",
    "    if i%4 == 2:\n",
    "        name = re.findall(r'[a-zA-Z0-9 ]+|',name.get_text())[0]\n",
    "        Duan.append((i, name, links_tags[i].get('href')))\n",
    "        pass\n",
    "    if i%4 == 0:\n",
    "        name = re.findall(r'[a-zA-Z0-9 ]+|',name.get_text())[0]\n",
    "        Yang.append((i, name, links_tags[i].get('href')))\n",
    "        pass\n",
    "    if i%4 == 1:\n",
    "        name = re.findall(r'[a-zA-Z0-9 ]+|',name.get_text())[0]\n",
    "        Sun.append((i, name, links_tags[i].get('href')))\n",
    "        pass\n",
    "\n"
   ]
  },
  {
   "cell_type": "code",
   "execution_count": 4,
   "metadata": {},
   "outputs": [
    {
     "data": {
      "text/plain": [
       "[(3, 'Financial Times', 'https://www.ft.com/'),\n",
       " (7, 'Morning star ', 'http://www.morningstar.com/'),\n",
       " (11, 'Reuters India ', 'https://in.reuters.com/'),\n",
       " (15, 'Business Line', 'http://www.thehindubusinessline.com/'),\n",
       " (19, 'BloombergQuint ', 'https://www.bloombergquint.com/'),\n",
       " (23, 'Business Daily', 'https://www.businessdailyafrica.com/'),\n",
       " (27, 'Marijuana Business Daily ', 'https://mjbizdaily.com/'),\n",
       " (31, 'Birmingham Post ', 'http://www.birminghampost.co.uk/business/'),\n",
       " (35, 'Talking Biz News ', 'http://talkingbiznews.com/'),\n",
       " (39, ' The Budapest Business Journal ', 'https://bbj.hu/site/'),\n",
       " (43, 'IoT Business News', 'https://iotbusinessnews.com/')]"
      ]
     },
     "execution_count": 4,
     "metadata": {},
     "output_type": "execute_result"
    }
   ],
   "source": [
    "Alice"
   ]
  },
  {
   "cell_type": "code",
   "execution_count": 5,
   "metadata": {},
   "outputs": [
    {
     "data": {
      "text/plain": [
       "[(2, 'Fortune ', 'http://fortune.com/'),\n",
       " (6, ' Seeking Alpha', 'https://seekingalpha.com/'),\n",
       " (10, 'The Economic Times', 'https://economictimes.indiatimes.com/'),\n",
       " (14, 'Business Standard', 'http://www.business-standard.com/'),\n",
       " (18, 'Financial Post ', 'http://business.financialpost.com/'),\n",
       " (22, 'Chicago Business News', 'http://www.chicagobusiness.com/'),\n",
       " (26, 'BusinessDay ', 'http://www.businessdayonline.com/'),\n",
       " (30, 'International Business Times AU', 'http://www.ibtimes.com.au/'),\n",
       " (34, 'Modest Money', 'https://www.modestmoney.com/'),\n",
       " (38, 'Jewish Business News', 'http://jewishbusinessnews.com/'),\n",
       " (42, 'Nigeria Business News', 'http://businessnews.com.ng/')]"
      ]
     },
     "execution_count": 5,
     "metadata": {},
     "output_type": "execute_result"
    }
   ],
   "source": [
    "Duan"
   ]
  },
  {
   "cell_type": "code",
   "execution_count": 6,
   "metadata": {},
   "outputs": [
    {
     "data": {
      "text/plain": [
       "[(0, 'CNN Money', 'http://money.cnn.com/'),\n",
       " (4, 'Yahoo ', 'https://finance.yahoo.com/'),\n",
       " (8, 'Music Business Worldwide', 'https://www.musicbusinessworldwide.com/'),\n",
       " (12, 'LiveMint', 'http://www.livemint.com/'),\n",
       " (16, 'Business Today ', 'http://www.businesstoday.in/'),\n",
       " (20, 'Moneyweb ', 'https://www.moneyweb.co.za/'),\n",
       " (24, 'Zee Business', 'http://www.zeebiz.com/'),\n",
       " (28, 'BNamericas', 'https://www.bnamericas.com/'),\n",
       " (32, 'Baystreet', 'http://www.baystreet.ca/'),\n",
       " (36, 'Business Matters ', 'http://www.bmmagazine.co.uk/'),\n",
       " (40, 'Long Island Business News', 'http://libn.com/'),\n",
       " (44, 'Thailand Business News', 'https://www.thailand-business-news.com/')]"
      ]
     },
     "execution_count": 6,
     "metadata": {},
     "output_type": "execute_result"
    }
   ],
   "source": [
    "Yang"
   ]
  },
  {
   "cell_type": "code",
   "execution_count": 7,
   "metadata": {},
   "outputs": [
    {
     "data": {
      "text/plain": [
       "[(1, 'CNBC ', 'https://www.cnbc.com/world/?region=world'),\n",
       " (5, 'Investing', 'https://www.investing.com/'),\n",
       " (9, 'Food Business News', 'http://www.foodbusinessnews.net/'),\n",
       " (13, 'The Financial Express', 'http://www.financialexpress.com/'),\n",
       " (17, 'Globes English ', 'http://www.globes.co.il/en/'),\n",
       " (21, 'Arabian Business ', 'http://www.arabianbusiness.com/'),\n",
       " (25, ' Canadian Business ', 'http://www.canadianbusiness.com/business-news/'),\n",
       " (29, 'Business World', 'http://bworldonline.com/'),\n",
       " (33, 'Business News', 'https://www.businessnews.com.au/'),\n",
       " (37, 'Business Travel News', 'http://www.businesstravelnews.com/'),\n",
       " (41, 'Business News Philippines', 'https://www.businessnews.com.ph/'),\n",
       " (45, 'SmallBizTalks', 'http://smallbiztalks.com/')]"
      ]
     },
     "execution_count": 7,
     "metadata": {},
     "output_type": "execute_result"
    }
   ],
   "source": [
    "Sun"
   ]
  },
  {
   "cell_type": "code",
   "execution_count": null,
   "metadata": {},
   "outputs": [],
   "source": []
  },
  {
   "cell_type": "code",
   "execution_count": null,
   "metadata": {},
   "outputs": [],
   "source": []
  }
 ],
 "metadata": {
  "kernelspec": {
   "display_name": "Python 3",
   "language": "python",
   "name": "python3"
  },
  "language_info": {
   "codemirror_mode": {
    "name": "ipython",
    "version": 3
   },
   "file_extension": ".py",
   "mimetype": "text/x-python",
   "name": "python",
   "nbconvert_exporter": "python",
   "pygments_lexer": "ipython3",
   "version": "3.6.5"
  }
 },
 "nbformat": 4,
 "nbformat_minor": 2
}
